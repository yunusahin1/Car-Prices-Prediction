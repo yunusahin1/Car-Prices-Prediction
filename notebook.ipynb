{
 "cells": [
  {
   "cell_type": "markdown",
   "id": "57b53c2d",
   "metadata": {},
   "source": [
    "# Car Price Prediction"
   ]
  },
  {
   "cell_type": "code",
   "execution_count": 1,
   "id": "1468ce9c",
   "metadata": {},
   "outputs": [],
   "source": [
    "# Importing essential libraries\n",
    "import pandas as pd\n",
    "import numpy as np\n",
    "from sklearn.preprocessing import OneHotEncoder\n",
    "from sklearn.model_selection import train_test_split\n",
    "from sklearn.linear_model import LinearRegression\n",
    "from xgboost import XGBRegressor\n",
    "from sklearn.svm import SVR\n",
    "from sklearn.metrics import mean_absolute_error\n",
    "from sklearn.metrics import mean_squared_error\n",
    "from sklearn.metrics import r2_score\n",
    "import matplotlib.pyplot as plt\n",
    "import seaborn as sns\n",
    "from sklearn.model_selection import GridSearchCV"
   ]
  },
  {
   "cell_type": "code",
   "execution_count": 2,
   "id": "14a67b7c",
   "metadata": {
    "scrolled": false
   },
   "outputs": [
    {
     "data": {
      "text/html": [
       "<div>\n",
       "<style scoped>\n",
       "    .dataframe tbody tr th:only-of-type {\n",
       "        vertical-align: middle;\n",
       "    }\n",
       "\n",
       "    .dataframe tbody tr th {\n",
       "        vertical-align: top;\n",
       "    }\n",
       "\n",
       "    .dataframe thead th {\n",
       "        text-align: right;\n",
       "    }\n",
       "</style>\n",
       "<table border=\"1\" class=\"dataframe\">\n",
       "  <thead>\n",
       "    <tr style=\"text-align: right;\">\n",
       "      <th></th>\n",
       "      <th>make</th>\n",
       "      <th>fuel</th>\n",
       "      <th>doors</th>\n",
       "      <th>body</th>\n",
       "      <th>drive</th>\n",
       "      <th>weight</th>\n",
       "      <th>engine-size</th>\n",
       "      <th>bhp</th>\n",
       "      <th>mpg</th>\n",
       "      <th>price</th>\n",
       "    </tr>\n",
       "  </thead>\n",
       "  <tbody>\n",
       "    <tr>\n",
       "      <th>0</th>\n",
       "      <td>alfa-romero</td>\n",
       "      <td>unleaded</td>\n",
       "      <td>two</td>\n",
       "      <td>convertible</td>\n",
       "      <td>rwd</td>\n",
       "      <td>2548</td>\n",
       "      <td>130</td>\n",
       "      <td>111.0</td>\n",
       "      <td>27</td>\n",
       "      <td>13495.0</td>\n",
       "    </tr>\n",
       "    <tr>\n",
       "      <th>1</th>\n",
       "      <td>alfa-romero</td>\n",
       "      <td>unleaded</td>\n",
       "      <td>two</td>\n",
       "      <td>convertible</td>\n",
       "      <td>rwd</td>\n",
       "      <td>2548</td>\n",
       "      <td>130</td>\n",
       "      <td>111.0</td>\n",
       "      <td>27</td>\n",
       "      <td>16500.0</td>\n",
       "    </tr>\n",
       "    <tr>\n",
       "      <th>2</th>\n",
       "      <td>alfa-romero</td>\n",
       "      <td>unleaded</td>\n",
       "      <td>two</td>\n",
       "      <td>hatchback</td>\n",
       "      <td>rwd</td>\n",
       "      <td>2823</td>\n",
       "      <td>152</td>\n",
       "      <td>154.0</td>\n",
       "      <td>26</td>\n",
       "      <td>16500.0</td>\n",
       "    </tr>\n",
       "    <tr>\n",
       "      <th>3</th>\n",
       "      <td>audi</td>\n",
       "      <td>unleaded</td>\n",
       "      <td>four</td>\n",
       "      <td>saloon</td>\n",
       "      <td>fwd</td>\n",
       "      <td>2337</td>\n",
       "      <td>109</td>\n",
       "      <td>102.0</td>\n",
       "      <td>30</td>\n",
       "      <td>13950.0</td>\n",
       "    </tr>\n",
       "    <tr>\n",
       "      <th>4</th>\n",
       "      <td>audi</td>\n",
       "      <td>unleaded</td>\n",
       "      <td>four</td>\n",
       "      <td>saloon</td>\n",
       "      <td>4wd</td>\n",
       "      <td>2824</td>\n",
       "      <td>136</td>\n",
       "      <td>115.0</td>\n",
       "      <td>22</td>\n",
       "      <td>17450.0</td>\n",
       "    </tr>\n",
       "  </tbody>\n",
       "</table>\n",
       "</div>"
      ],
      "text/plain": [
       "          make      fuel doors         body drive  weight  engine-size    bhp  \\\n",
       "0  alfa-romero  unleaded   two  convertible   rwd    2548          130  111.0   \n",
       "1  alfa-romero  unleaded   two  convertible   rwd    2548          130  111.0   \n",
       "2  alfa-romero  unleaded   two    hatchback   rwd    2823          152  154.0   \n",
       "3         audi  unleaded  four       saloon   fwd    2337          109  102.0   \n",
       "4         audi  unleaded  four       saloon   4wd    2824          136  115.0   \n",
       "\n",
       "   mpg    price  \n",
       "0   27  13495.0  \n",
       "1   27  16500.0  \n",
       "2   26  16500.0  \n",
       "3   30  13950.0  \n",
       "4   22  17450.0  "
      ]
     },
     "execution_count": 2,
     "metadata": {},
     "output_type": "execute_result"
    }
   ],
   "source": [
    "# Reading a CSV file and explore the dataset\n",
    "df = pd.read_csv('car_prices.csv')\n",
    "df.head()"
   ]
  },
  {
   "cell_type": "code",
   "execution_count": 3,
   "id": "fa1f8d50",
   "metadata": {
    "scrolled": true
   },
   "outputs": [
    {
     "data": {
      "text/plain": [
       "(205, 10)"
      ]
     },
     "execution_count": 3,
     "metadata": {},
     "output_type": "execute_result"
    }
   ],
   "source": [
    "df.shape"
   ]
  },
  {
   "cell_type": "code",
   "execution_count": 4,
   "id": "e0e124cc",
   "metadata": {
    "scrolled": true
   },
   "outputs": [
    {
     "name": "stdout",
     "output_type": "stream",
     "text": [
      "<class 'pandas.core.frame.DataFrame'>\n",
      "RangeIndex: 205 entries, 0 to 204\n",
      "Data columns (total 10 columns):\n",
      " #   Column       Non-Null Count  Dtype  \n",
      "---  ------       --------------  -----  \n",
      " 0   make         205 non-null    object \n",
      " 1   fuel         205 non-null    object \n",
      " 2   doors        203 non-null    object \n",
      " 3   body         205 non-null    object \n",
      " 4   drive        205 non-null    object \n",
      " 5   weight       205 non-null    int64  \n",
      " 6   engine-size  205 non-null    int64  \n",
      " 7   bhp          203 non-null    float64\n",
      " 8   mpg          205 non-null    int64  \n",
      " 9   price        201 non-null    float64\n",
      "dtypes: float64(2), int64(3), object(5)\n",
      "memory usage: 16.1+ KB\n"
     ]
    }
   ],
   "source": [
    "df.info()"
   ]
  },
  {
   "cell_type": "code",
   "execution_count": 5,
   "id": "55652834",
   "metadata": {},
   "outputs": [
    {
     "data": {
      "text/html": [
       "<div>\n",
       "<style scoped>\n",
       "    .dataframe tbody tr th:only-of-type {\n",
       "        vertical-align: middle;\n",
       "    }\n",
       "\n",
       "    .dataframe tbody tr th {\n",
       "        vertical-align: top;\n",
       "    }\n",
       "\n",
       "    .dataframe thead th {\n",
       "        text-align: right;\n",
       "    }\n",
       "</style>\n",
       "<table border=\"1\" class=\"dataframe\">\n",
       "  <thead>\n",
       "    <tr style=\"text-align: right;\">\n",
       "      <th></th>\n",
       "      <th>weight</th>\n",
       "      <th>engine-size</th>\n",
       "      <th>bhp</th>\n",
       "      <th>mpg</th>\n",
       "      <th>price</th>\n",
       "    </tr>\n",
       "  </thead>\n",
       "  <tbody>\n",
       "    <tr>\n",
       "      <th>count</th>\n",
       "      <td>205.000000</td>\n",
       "      <td>205.000000</td>\n",
       "      <td>203.000000</td>\n",
       "      <td>205.000000</td>\n",
       "      <td>201.000000</td>\n",
       "    </tr>\n",
       "    <tr>\n",
       "      <th>mean</th>\n",
       "      <td>2555.565854</td>\n",
       "      <td>126.907317</td>\n",
       "      <td>104.256158</td>\n",
       "      <td>30.751220</td>\n",
       "      <td>13207.129353</td>\n",
       "    </tr>\n",
       "    <tr>\n",
       "      <th>std</th>\n",
       "      <td>520.680204</td>\n",
       "      <td>41.642693</td>\n",
       "      <td>39.714369</td>\n",
       "      <td>6.886443</td>\n",
       "      <td>7947.066342</td>\n",
       "    </tr>\n",
       "    <tr>\n",
       "      <th>min</th>\n",
       "      <td>1488.000000</td>\n",
       "      <td>61.000000</td>\n",
       "      <td>48.000000</td>\n",
       "      <td>16.000000</td>\n",
       "      <td>5118.000000</td>\n",
       "    </tr>\n",
       "    <tr>\n",
       "      <th>25%</th>\n",
       "      <td>2145.000000</td>\n",
       "      <td>97.000000</td>\n",
       "      <td>70.000000</td>\n",
       "      <td>25.000000</td>\n",
       "      <td>7775.000000</td>\n",
       "    </tr>\n",
       "    <tr>\n",
       "      <th>50%</th>\n",
       "      <td>2414.000000</td>\n",
       "      <td>120.000000</td>\n",
       "      <td>95.000000</td>\n",
       "      <td>30.000000</td>\n",
       "      <td>10295.000000</td>\n",
       "    </tr>\n",
       "    <tr>\n",
       "      <th>75%</th>\n",
       "      <td>2935.000000</td>\n",
       "      <td>141.000000</td>\n",
       "      <td>116.000000</td>\n",
       "      <td>34.000000</td>\n",
       "      <td>16500.000000</td>\n",
       "    </tr>\n",
       "    <tr>\n",
       "      <th>max</th>\n",
       "      <td>4066.000000</td>\n",
       "      <td>326.000000</td>\n",
       "      <td>288.000000</td>\n",
       "      <td>54.000000</td>\n",
       "      <td>45400.000000</td>\n",
       "    </tr>\n",
       "  </tbody>\n",
       "</table>\n",
       "</div>"
      ],
      "text/plain": [
       "            weight  engine-size         bhp         mpg         price\n",
       "count   205.000000   205.000000  203.000000  205.000000    201.000000\n",
       "mean   2555.565854   126.907317  104.256158   30.751220  13207.129353\n",
       "std     520.680204    41.642693   39.714369    6.886443   7947.066342\n",
       "min    1488.000000    61.000000   48.000000   16.000000   5118.000000\n",
       "25%    2145.000000    97.000000   70.000000   25.000000   7775.000000\n",
       "50%    2414.000000   120.000000   95.000000   30.000000  10295.000000\n",
       "75%    2935.000000   141.000000  116.000000   34.000000  16500.000000\n",
       "max    4066.000000   326.000000  288.000000   54.000000  45400.000000"
      ]
     },
     "execution_count": 5,
     "metadata": {},
     "output_type": "execute_result"
    }
   ],
   "source": [
    "df.describe()"
   ]
  },
  {
   "cell_type": "code",
   "execution_count": 6,
   "id": "1f0356fc",
   "metadata": {},
   "outputs": [
    {
     "name": "stdout",
     "output_type": "stream",
     "text": [
      "make           0\n",
      "fuel           0\n",
      "doors          2\n",
      "body           0\n",
      "drive          0\n",
      "weight         0\n",
      "engine-size    0\n",
      "bhp            2\n",
      "mpg            0\n",
      "price          4\n",
      "dtype: int64\n",
      "['doors', 'bhp', 'price']\n"
     ]
    }
   ],
   "source": [
    "columns_with_missing_values = list(df.columns[df.isna().sum() != 0])\n",
    "print(df.isna().sum())\n",
    "print(columns_with_missing_values)"
   ]
  },
  {
   "cell_type": "code",
   "execution_count": 7,
   "id": "946c191a",
   "metadata": {},
   "outputs": [
    {
     "name": "stdout",
     "output_type": "stream",
     "text": [
      "object\n",
      "float64\n",
      "float64\n"
     ]
    }
   ],
   "source": [
    "for i in range(len(columns_with_missing_values)):\n",
    "    print(df[columns_with_missing_values[i]].dtype)"
   ]
  },
  {
   "cell_type": "code",
   "execution_count": 8,
   "id": "d13e0ebc",
   "metadata": {},
   "outputs": [
    {
     "data": {
      "text/plain": [
       "array(['two', 'four', nan], dtype=object)"
      ]
     },
     "execution_count": 8,
     "metadata": {},
     "output_type": "execute_result"
    }
   ],
   "source": [
    "df.doors.unique()"
   ]
  },
  {
   "cell_type": "code",
   "execution_count": 9,
   "id": "c50d89e2",
   "metadata": {},
   "outputs": [],
   "source": [
    "def handle_doors(x):\n",
    "    unique_values = df['doors'].unique()\n",
    "    if len(unique_values) == 1:\n",
    "        return x \n",
    "    elif x == unique_values[0]:\n",
    "        return 2\n",
    "    elif x == unique_values[1]:\n",
    "        return 4\n",
    "    else:\n",
    "        return x\n",
    "\n",
    "df['doors'] = df['doors'].apply(handle_doors)"
   ]
  },
  {
   "cell_type": "code",
   "execution_count": 10,
   "id": "300c2067",
   "metadata": {
    "scrolled": true
   },
   "outputs": [
    {
     "data": {
      "text/plain": [
       "make           0\n",
       "fuel           0\n",
       "doors          2\n",
       "body           0\n",
       "drive          0\n",
       "weight         0\n",
       "engine-size    0\n",
       "bhp            2\n",
       "mpg            0\n",
       "price          4\n",
       "dtype: int64"
      ]
     },
     "execution_count": 10,
     "metadata": {},
     "output_type": "execute_result"
    }
   ],
   "source": [
    "df.isna().sum()"
   ]
  },
  {
   "cell_type": "code",
   "execution_count": 11,
   "id": "e0c98595",
   "metadata": {},
   "outputs": [],
   "source": [
    "means = [] \n",
    "for i in range(len(columns_with_missing_values)):\n",
    "    means.append(df[columns_with_missing_values[i]].mean())"
   ]
  },
  {
   "cell_type": "code",
   "execution_count": 12,
   "id": "698d27ef",
   "metadata": {},
   "outputs": [
    {
     "data": {
      "text/plain": [
       "make           0\n",
       "fuel           0\n",
       "doors          0\n",
       "body           0\n",
       "drive          0\n",
       "weight         0\n",
       "engine-size    0\n",
       "bhp            0\n",
       "mpg            0\n",
       "price          0\n",
       "dtype: int64"
      ]
     },
     "execution_count": 12,
     "metadata": {},
     "output_type": "execute_result"
    }
   ],
   "source": [
    "for i in range(len(columns_with_missing_values)):\n",
    "    df[columns_with_missing_values[i]].fillna(means[i], inplace = True)\n",
    "df.isna().sum()"
   ]
  },
  {
   "cell_type": "code",
   "execution_count": 13,
   "id": "b13f499b",
   "metadata": {
    "scrolled": false
   },
   "outputs": [
    {
     "data": {
      "text/plain": [
       "<Axes: >"
      ]
     },
     "execution_count": 13,
     "metadata": {},
     "output_type": "execute_result"
    },
    {
     "data": {
      "image/png": "[encoded data removed]",
      "text/plain": [
       "<Figure size 640x480 with 1 Axes>"
      ]
     },
     "metadata": {},
     "output_type": "display_data"
    }
   ],
   "source": [
    "df.plot(kind='box')"
   ]
  },
  {
   "cell_type": "code",
   "execution_count": 14,
   "id": "00a49639",
   "metadata": {},
   "outputs": [
    {
     "data": {
      "text/plain": [
       "<Axes: >"
      ]
     },
     "execution_count": 14,
     "metadata": {},
     "output_type": "execute_result"
    },
    {
     "data": {
      "image/png": "[encoded data removed]",
      "text/plain": [
       "<Figure size 640x480 with 1 Axes>"
      ]
     },
     "metadata": {},
     "output_type": "display_data"
    }
   ],
   "source": [
    "def replace_outliers_with_mean(df, threshold=1.5):\n",
    "    # Iterate through each numerical column\n",
    "    for column in df.select_dtypes(include=[np.number]):\n",
    "        # Calculate the first quartile (Q1) and third quartile (Q3)\n",
    "        Q1 = df[column].quantile(0.25)\n",
    "        Q3 = df[column].quantile(0.75)\n",
    "        # Calculate the interquartile range (IQR)\n",
    "        IQR = Q3 - Q1\n",
    "        # Define the lower and upper bounds for outlier detection\n",
    "        lower_bound = Q1 - threshold * IQR\n",
    "        upper_bound = Q3 + threshold * IQR\n",
    "        # Replace outliers with the mean of the respective column\n",
    "        outliers_mask = (df[column] < lower_bound) | (df[column] > upper_bound)\n",
    "        df.loc[outliers_mask, column] = df[column].mean()\n",
    "\n",
    "    return df\n",
    "\n",
    "replace_outliers_with_mean(df)\n",
    "\n",
    "df.plot(kind='box')"
   ]
  },
  {
   "cell_type": "code",
   "execution_count": 15,
   "id": "572d0584",
   "metadata": {
    "scrolled": true
   },
   "outputs": [
    {
     "name": "stdout",
     "output_type": "stream",
     "text": [
      "Index(['make', 'fuel', 'body', 'drive'], dtype='object')\n"
     ]
    }
   ],
   "source": [
    "categorical_columns = df.select_dtypes(exclude='number').columns\n",
    "print(categorical_columns)"
   ]
  },
  {
   "cell_type": "code",
   "execution_count": 16,
   "id": "19d0ab19",
   "metadata": {},
   "outputs": [],
   "source": [
    "import warnings\n",
    "warnings.filterwarnings('ignore')\n",
    "\n",
    "def one_hot_encoder(df, columns):\n",
    "    encoder = OneHotEncoder(sparse=False)\n",
    "    encoded_columns = encoder.fit_transform(df[columns])\n",
    "    df.drop(columns, axis=1, inplace=True)\n",
    "    for i, col in enumerate(encoder.get_feature_names_out(columns)):\n",
    "        df[col] = encoded_columns[:, i]\n",
    "    return df"
   ]
  },
  {
   "cell_type": "code",
   "execution_count": 17,
   "id": "168786ad",
   "metadata": {},
   "outputs": [
    {
     "data": {
      "text/html": [
       "<div>\n",
       "<style scoped>\n",
       "    .dataframe tbody tr th:only-of-type {\n",
       "        vertical-align: middle;\n",
       "    }\n",
       "\n",
       "    .dataframe tbody tr th {\n",
       "        vertical-align: top;\n",
       "    }\n",
       "\n",
       "    .dataframe thead th {\n",
       "        text-align: right;\n",
       "    }\n",
       "</style>\n",
       "<table border=\"1\" class=\"dataframe\">\n",
       "  <thead>\n",
       "    <tr style=\"text-align: right;\">\n",
       "      <th></th>\n",
       "      <th>doors</th>\n",
       "      <th>weight</th>\n",
       "      <th>engine-size</th>\n",
       "      <th>bhp</th>\n",
       "      <th>mpg</th>\n",
       "      <th>price</th>\n",
       "      <th>make_alfa-romero</th>\n",
       "      <th>make_audi</th>\n",
       "      <th>make_bmw</th>\n",
       "      <th>make_chevrolet</th>\n",
       "      <th>...</th>\n",
       "      <th>fuel_diesel</th>\n",
       "      <th>fuel_unleaded</th>\n",
       "      <th>body_convertible</th>\n",
       "      <th>body_hardtop</th>\n",
       "      <th>body_hatchback</th>\n",
       "      <th>body_saloon</th>\n",
       "      <th>body_wagon</th>\n",
       "      <th>drive_4wd</th>\n",
       "      <th>drive_fwd</th>\n",
       "      <th>drive_rwd</th>\n",
       "    </tr>\n",
       "  </thead>\n",
       "  <tbody>\n",
       "    <tr>\n",
       "      <th>0</th>\n",
       "      <td>2.0</td>\n",
       "      <td>2548.0</td>\n",
       "      <td>130.0</td>\n",
       "      <td>111.0</td>\n",
       "      <td>27.0</td>\n",
       "      <td>13495.0</td>\n",
       "      <td>1.0</td>\n",
       "      <td>0.0</td>\n",
       "      <td>0.0</td>\n",
       "      <td>0.0</td>\n",
       "      <td>...</td>\n",
       "      <td>0.0</td>\n",
       "      <td>1.0</td>\n",
       "      <td>1.0</td>\n",
       "      <td>0.0</td>\n",
       "      <td>0.0</td>\n",
       "      <td>0.0</td>\n",
       "      <td>0.0</td>\n",
       "      <td>0.0</td>\n",
       "      <td>0.0</td>\n",
       "      <td>1.0</td>\n",
       "    </tr>\n",
       "    <tr>\n",
       "      <th>1</th>\n",
       "      <td>2.0</td>\n",
       "      <td>2548.0</td>\n",
       "      <td>130.0</td>\n",
       "      <td>111.0</td>\n",
       "      <td>27.0</td>\n",
       "      <td>16500.0</td>\n",
       "      <td>1.0</td>\n",
       "      <td>0.0</td>\n",
       "      <td>0.0</td>\n",
       "      <td>0.0</td>\n",
       "      <td>...</td>\n",
       "      <td>0.0</td>\n",
       "      <td>1.0</td>\n",
       "      <td>1.0</td>\n",
       "      <td>0.0</td>\n",
       "      <td>0.0</td>\n",
       "      <td>0.0</td>\n",
       "      <td>0.0</td>\n",
       "      <td>0.0</td>\n",
       "      <td>0.0</td>\n",
       "      <td>1.0</td>\n",
       "    </tr>\n",
       "    <tr>\n",
       "      <th>2</th>\n",
       "      <td>2.0</td>\n",
       "      <td>2823.0</td>\n",
       "      <td>152.0</td>\n",
       "      <td>154.0</td>\n",
       "      <td>26.0</td>\n",
       "      <td>16500.0</td>\n",
       "      <td>1.0</td>\n",
       "      <td>0.0</td>\n",
       "      <td>0.0</td>\n",
       "      <td>0.0</td>\n",
       "      <td>...</td>\n",
       "      <td>0.0</td>\n",
       "      <td>1.0</td>\n",
       "      <td>0.0</td>\n",
       "      <td>0.0</td>\n",
       "      <td>1.0</td>\n",
       "      <td>0.0</td>\n",
       "      <td>0.0</td>\n",
       "      <td>0.0</td>\n",
       "      <td>0.0</td>\n",
       "      <td>1.0</td>\n",
       "    </tr>\n",
       "    <tr>\n",
       "      <th>3</th>\n",
       "      <td>4.0</td>\n",
       "      <td>2337.0</td>\n",
       "      <td>109.0</td>\n",
       "      <td>102.0</td>\n",
       "      <td>30.0</td>\n",
       "      <td>13950.0</td>\n",
       "      <td>0.0</td>\n",
       "      <td>1.0</td>\n",
       "      <td>0.0</td>\n",
       "      <td>0.0</td>\n",
       "      <td>...</td>\n",
       "      <td>0.0</td>\n",
       "      <td>1.0</td>\n",
       "      <td>0.0</td>\n",
       "      <td>0.0</td>\n",
       "      <td>0.0</td>\n",
       "      <td>1.0</td>\n",
       "      <td>0.0</td>\n",
       "      <td>0.0</td>\n",
       "      <td>1.0</td>\n",
       "      <td>0.0</td>\n",
       "    </tr>\n",
       "    <tr>\n",
       "      <th>4</th>\n",
       "      <td>4.0</td>\n",
       "      <td>2824.0</td>\n",
       "      <td>136.0</td>\n",
       "      <td>115.0</td>\n",
       "      <td>22.0</td>\n",
       "      <td>17450.0</td>\n",
       "      <td>0.0</td>\n",
       "      <td>1.0</td>\n",
       "      <td>0.0</td>\n",
       "      <td>0.0</td>\n",
       "      <td>...</td>\n",
       "      <td>0.0</td>\n",
       "      <td>1.0</td>\n",
       "      <td>0.0</td>\n",
       "      <td>0.0</td>\n",
       "      <td>0.0</td>\n",
       "      <td>1.0</td>\n",
       "      <td>0.0</td>\n",
       "      <td>1.0</td>\n",
       "      <td>0.0</td>\n",
       "      <td>0.0</td>\n",
       "    </tr>\n",
       "  </tbody>\n",
       "</table>\n",
       "<p>5 rows × 38 columns</p>\n",
       "</div>"
      ],
      "text/plain": [
       "   doors  weight  engine-size    bhp   mpg    price  make_alfa-romero  \\\n",
       "0    2.0  2548.0        130.0  111.0  27.0  13495.0               1.0   \n",
       "1    2.0  2548.0        130.0  111.0  27.0  16500.0               1.0   \n",
       "2    2.0  2823.0        152.0  154.0  26.0  16500.0               1.0   \n",
       "3    4.0  2337.0        109.0  102.0  30.0  13950.0               0.0   \n",
       "4    4.0  2824.0        136.0  115.0  22.0  17450.0               0.0   \n",
       "\n",
       "   make_audi  make_bmw  make_chevrolet  ...  fuel_diesel  fuel_unleaded  \\\n",
       "0        0.0       0.0             0.0  ...          0.0            1.0   \n",
       "1        0.0       0.0             0.0  ...          0.0            1.0   \n",
       "2        0.0       0.0             0.0  ...          0.0            1.0   \n",
       "3        1.0       0.0             0.0  ...          0.0            1.0   \n",
       "4        1.0       0.0             0.0  ...          0.0            1.0   \n",
       "\n",
       "   body_convertible  body_hardtop  body_hatchback  body_saloon  body_wagon  \\\n",
       "0               1.0           0.0             0.0          0.0         0.0   \n",
       "1               1.0           0.0             0.0          0.0         0.0   \n",
       "2               0.0           0.0             1.0          0.0         0.0   \n",
       "3               0.0           0.0             0.0          1.0         0.0   \n",
       "4               0.0           0.0             0.0          1.0         0.0   \n",
       "\n",
       "   drive_4wd  drive_fwd  drive_rwd  \n",
       "0        0.0        0.0        1.0  \n",
       "1        0.0        0.0        1.0  \n",
       "2        0.0        0.0        1.0  \n",
       "3        0.0        1.0        0.0  \n",
       "4        1.0        0.0        0.0  \n",
       "\n",
       "[5 rows x 38 columns]"
      ]
     },
     "execution_count": 17,
     "metadata": {},
     "output_type": "execute_result"
    }
   ],
   "source": [
    "df = one_hot_encoder(df, categorical_columns)\n",
    "df.head()"
   ]
  },
  {
   "cell_type": "code",
   "execution_count": 18,
   "id": "9211c7b9",
   "metadata": {},
   "outputs": [
    {
     "name": "stdout",
     "output_type": "stream",
     "text": [
      "<class 'pandas.core.frame.DataFrame'>\n",
      "RangeIndex: 205 entries, 0 to 204\n",
      "Data columns (total 38 columns):\n",
      " #   Column              Non-Null Count  Dtype  \n",
      "---  ------              --------------  -----  \n",
      " 0   doors               205 non-null    float64\n",
      " 1   weight              205 non-null    float64\n",
      " 2   engine-size         205 non-null    float64\n",
      " 3   bhp                 205 non-null    float64\n",
      " 4   mpg                 205 non-null    float64\n",
      " 5   price               205 non-null    float64\n",
      " 6   make_alfa-romero    205 non-null    float64\n",
      " 7   make_audi           205 non-null    float64\n",
      " 8   make_bmw            205 non-null    float64\n",
      " 9   make_chevrolet      205 non-null    float64\n",
      " 10  make_dodge          205 non-null    float64\n",
      " 11  make_honda          205 non-null    float64\n",
      " 12  make_isuzu          205 non-null    float64\n",
      " 13  make_jaguar         205 non-null    float64\n",
      " 14  make_mazda          205 non-null    float64\n",
      " 15  make_mercedes-benz  205 non-null    float64\n",
      " 16  make_mercury        205 non-null    float64\n",
      " 17  make_mitsubishi     205 non-null    float64\n",
      " 18  make_nissan         205 non-null    float64\n",
      " 19  make_peugot         205 non-null    float64\n",
      " 20  make_plymouth       205 non-null    float64\n",
      " 21  make_porsche        205 non-null    float64\n",
      " 22  make_renault        205 non-null    float64\n",
      " 23  make_saab           205 non-null    float64\n",
      " 24  make_subaru         205 non-null    float64\n",
      " 25  make_toyota         205 non-null    float64\n",
      " 26  make_volkswagen     205 non-null    float64\n",
      " 27  make_volvo          205 non-null    float64\n",
      " 28  fuel_diesel         205 non-null    float64\n",
      " 29  fuel_unleaded       205 non-null    float64\n",
      " 30  body_convertible    205 non-null    float64\n",
      " 31  body_hardtop        205 non-null    float64\n",
      " 32  body_hatchback      205 non-null    float64\n",
      " 33  body_saloon         205 non-null    float64\n",
      " 34  body_wagon          205 non-null    float64\n",
      " 35  drive_4wd           205 non-null    float64\n",
      " 36  drive_fwd           205 non-null    float64\n",
      " 37  drive_rwd           205 non-null    float64\n",
      "dtypes: float64(38)\n",
      "memory usage: 61.0 KB\n"
     ]
    }
   ],
   "source": [
    "df.info()"
   ]
  },
  {
   "cell_type": "code",
   "execution_count": 19,
   "id": "bccb1d6f",
   "metadata": {},
   "outputs": [],
   "source": [
    "X = df.drop('price', axis = 1)\n",
    "y = df[['price']]\n",
    "\n",
    "X_train, X_test, y_train, y_test = train_test_split(X, y, test_size = .3, random_state = 123)"
   ]
  },
  {
   "cell_type": "code",
   "execution_count": 20,
   "id": "781ea4e9",
   "metadata": {},
   "outputs": [],
   "source": [
    "model_1 = LinearRegression()\n",
    "model_1.fit(X_train, y_train)\n",
    "y_pred_1 = model_1.predict(X_test)"
   ]
  },
  {
   "cell_type": "code",
   "execution_count": 22,
   "id": "5b33731c",
   "metadata": {},
   "outputs": [],
   "source": [
    "model_2 = XGBRegressor()\n",
    "\n",
    "param_grid = {\n",
    "    'n_estimators': [100, 200, 300]\n",
    "}\n",
    "\n",
    "grid_search = GridSearchCV(estimator=model_2, param_grid=param_grid, cv=5, scoring='neg_mean_squared_error')\n",
    "grid_search.fit(X_train, y_train)\n",
    "\n",
    "best_model = grid_search.best_estimator_\n",
    "\n",
    "best_model.fit(X_train, y_train)\n",
    "\n",
    "y_pred_2 = best_model.predict(X_test)"
   ]
  },
  {
   "cell_type": "code",
   "execution_count": 50,
   "id": "23e12b79",
   "metadata": {},
   "outputs": [],
   "source": [
    "model_3 = SVR()\n",
    "\n",
    "param_grid = {\n",
    "    'C': [0.1, 1, 10, 100]\n",
    "}\n",
    "\n",
    "grid_search = GridSearchCV(model_3, param_grid, cv=5)\n",
    "grid_search.fit(X_train, y_train)\n",
    "\n",
    "best_model = grid_search.best_estimator_\n",
    "\n",
    "y_pred_3 = best_model.predict(X_test)"
   ]
  },
  {
   "cell_type": "code",
   "execution_count": 24,
   "id": "dd3bb95c",
   "metadata": {},
   "outputs": [],
   "source": [
    "# Calculate errors for each model\n",
    "errors = {\n",
    "    \"Linear Regression\": {\n",
    "        \"MAE\": mean_absolute_error(y_test, y_pred_1),\n",
    "        \"MSE\": mean_squared_error(y_test, y_pred_1),\n",
    "        \"R2\": r2_score(y_test, y_pred_1)\n",
    "    },\n",
    "    \"XGBRegressor\": {\n",
    "        \"MAE\": mean_absolute_error(y_test, y_pred_2),\n",
    "        \"MSE\": mean_squared_error(y_test, y_pred_2),\n",
    "        \"R2\": r2_score(y_test, y_pred_2)\n",
    "    },\n",
    "    \"SVR\": {\n",
    "        \"MAE\": mean_absolute_error(y_test, y_pred_3),\n",
    "        \"MSE\": mean_squared_error(y_test, y_pred_3),\n",
    "        \"R2\": r2_score(y_test, y_pred_3)\n",
    "    }\n",
    "}\n",
    "\n",
    "mae_errors = []\n",
    "mse_errors = []\n",
    "r2_errors = []\n",
    "\n",
    "for model, metrics in errors.items():\n",
    "    mae_errors.append(metrics[\"MAE\"])\n",
    "    mse_errors.append(metrics[\"MSE\"])\n",
    "    r2_errors.append(metrics[\"R2\"])"
   ]
  },
  {
   "cell_type": "code",
   "execution_count": 46,
   "id": "5cdfa8a0",
   "metadata": {},
   "outputs": [
    {
     "data": {
      "image/png": "[encoded data removed]",
      "text/plain": [
       "<Figure size 1200x600 with 3 Axes>"
      ]
     },
     "metadata": {},
     "output_type": "display_data"
    }
   ],
   "source": [
    "fig, ax = plt.subplots(nrows=1, ncols=3, figsize=(12, 6))\n",
    "\n",
    "sns.barplot(x = list(errors.keys()), y = mae_errors, ax = ax[0], color = 'blue')\n",
    "ax[0].set_title('MAE Errors')\n",
    "\n",
    "sns.barplot(x = list(errors.keys()), y = mse_errors, ax = ax[1], color = 'black')\n",
    "ax[1].set_title('MSE Errors')\n",
    "\n",
    "sns.barplot(x = list(errors.keys()), y = r2_errors, ax = ax[2], color = 'red')\n",
    "ax[2].set_title('R^2 Errors')\n",
    "\n",
    "for axis in ax:\n",
    "    axis.set_xticklabels(errors.keys(), rotation = 45)\n",
    "\n",
    "plt.tight_layout()\n",
    "plt.show()"
   ]
  }
 ],
 "metadata": {
  "kernelspec": {
   "display_name": "Python 3 (ipykernel)",
   "language": "python",
   "name": "python3"
  },
  "language_info": {
   "codemirror_mode": {
    "name": "ipython",
    "version": 3
   },
   "file_extension": ".py",
   "mimetype": "text/x-python",
   "name": "python",
   "nbconvert_exporter": "python",
   "pygments_lexer": "ipython3",
   "version": "3.11.5"
  }
 },
 "nbformat": 4,
 "nbformat_minor": 5
}
